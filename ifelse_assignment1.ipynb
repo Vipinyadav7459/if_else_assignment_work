{
 "cells": [
  {
   "cell_type": "code",
   "execution_count": 1,
   "id": "43e4f672-eb72-4e00-b7ef-5dffabd8301c",
   "metadata": {},
   "outputs": [
    {
     "name": "stdin",
     "output_type": "stream",
     "text": [
      "enter the number of unit: 34\n"
     ]
    },
    {
     "name": "stdout",
     "output_type": "stream",
     "text": [
      "total bill amount is rs 0\n"
     ]
    }
   ],
   "source": [
    "#question 1\n",
    "unit = int(input(\"enter the number of unit:\"))\n",
    "bill=0\n",
    "if unit > 200:\n",
    "    bill+=(unit-200)*10\n",
    "    units =200\n",
    "if unit >100:\n",
    "    bill +=(unit-100)*5\n",
    "print(f\"total bill amount is rs {bill}\")"
   ]
  },
  {
   "cell_type": "code",
   "execution_count": 3,
   "id": "c7135537-fa08-4e69-952a-f0bdd1df489f",
   "metadata": {},
   "outputs": [
    {
     "name": "stdin",
     "output_type": "stream",
     "text": [
      "enter your percentage: 80\n"
     ]
    },
    {
     "name": "stdout",
     "output_type": "stream",
     "text": [
      "GRADE:C\n"
     ]
    }
   ],
   "source": [
    "# question 2\n",
    "percentage = float(input(\"enter your percentage:\"))\n",
    "if percentage > 90:\n",
    "    print(\"GRADE:A\")\n",
    "elif percentage > 80 and percentage <=90:\n",
    "    print(\"GRADE:B\")\n",
    "elif percentage >= 60 and percentage <=80:\n",
    "    print(\"GRADE:C\")\n",
    "else:\n",
    "    print(\"GRADE:D\")\n",
    "    "
   ]
  },
  {
   "cell_type": "code",
   "execution_count": 5,
   "id": "3be0069a-f675-4e67-b181-dd0897ca8bc4",
   "metadata": {},
   "outputs": [
    {
     "name": "stdin",
     "output_type": "stream",
     "text": [
      "enter age1: 12\n",
      "enter age2: 23\n",
      "enter age3: 34\n",
      "enter age4: 45\n"
     ]
    },
    {
     "name": "stdout",
     "output_type": "stream",
     "text": [
      "the youngest age is: 12\n"
     ]
    }
   ],
   "source": [
    "#Question 3\n",
    "age1 = int(input(\"enter age1:\"))\n",
    "age2 = int(input(\"enter age2:\"))\n",
    "age3 = int(input(\"enter age3:\"))\n",
    "age4 = int(input(\"enter age4:\"))\n",
    "youngest_age = min(age1,age2,age3,age4)\n",
    "print(\"the youngest age is:\",youngest_age)"
   ]
  },
  {
   "cell_type": "code",
   "execution_count": 9,
   "id": "562c5d16-c48a-4355-92e7-fc6f2349a221",
   "metadata": {},
   "outputs": [
    {
     "name": "stdin",
     "output_type": "stream",
     "text": [
      "enter your salary: 35465\n",
      "enter your years of service: 45\n"
     ]
    },
    {
     "name": "stdout",
     "output_type": "stream",
     "text": [
      "your bonus is:3546.5\n"
     ]
    }
   ],
   "source": [
    "#Question4\n",
    "salary= float(input(\"enter your salary:\"))\n",
    "year_of_service = int(input(\"enter your years of service:\"))\n",
    "if year_of_service > 10:\n",
    "    bonus_percent =10\n",
    "elif 6 <= years_of_service <= 10:\n",
    "    bonus_percent = 8\n",
    "else:\n",
    "    bonus_percent=5\n",
    "\n",
    "bonus =(bonus_percent / 100)* salary\n",
    "print(f\"your bonus is:{bonus}\")"
   ]
  },
  {
   "cell_type": "code",
   "execution_count": 15,
   "id": "67451622-b9a6-4059-a491-631a0202235d",
   "metadata": {},
   "outputs": [
    {
     "name": "stdin",
     "output_type": "stream",
     "text": [
      "enter fist number: 23\n",
      "enter second number: 233\n",
      "enter third number: 3334\n"
     ]
    },
    {
     "name": "stdout",
     "output_type": "stream",
     "text": [
      "the second largest number is: 34\n"
     ]
    }
   ],
   "source": [
    "#Question5\n",
    "num1 = int(input(\"enter fist number:\"))\n",
    "num2 = int(input(\"enter second number:\"))\n",
    "num3 = int(input(\"enter third number:\"))\n",
    "numbers = [num1,num2,num3]\n",
    "numbers.sort()\n",
    "print(\"the second largest number is:\",number[1])\n"
   ]
  },
  {
   "cell_type": "code",
   "execution_count": 17,
   "id": "a0328845-5e3d-4cd9-8eab-859b84b22409",
   "metadata": {},
   "outputs": [
    {
     "name": "stdin",
     "output_type": "stream",
     "text": [
      "Enter the marked price:  12000\n"
     ]
    },
    {
     "name": "stdout",
     "output_type": "stream",
     "text": [
      "Discount Applied: 20%\n",
      "Discount Amount: 2400.0\n",
      "Net Amount to Pay: 9600.0\n"
     ]
    }
   ],
   "source": [
    "#Question6\n",
    "\n",
    "marked_price = float(input(\"Enter the marked price: \"))\n",
    "\n",
    "\n",
    "if marked_price > 10000:\n",
    "    discount_rate = 20\n",
    "elif marked_price > 7000:\n",
    "    discount_rate = 15\n",
    "else:\n",
    "    discount_rate = 10\n",
    "\n",
    "# Calculate discount amount\n",
    "discount_amount = (discount_rate / 100) * marked_price\n",
    "\n",
    "# Calculate net amount to be paid\n",
    "net_amount = marked_price - discount_amount\n",
    "\n",
    "# Display the result\n",
    "print(f\"Discount Applied: {discount_rate}%\")\n",
    "print(f\"Discount Amount: {discount_amount}\")\n",
    "print(f\"Net Amount to Pay: {net_amount}\")"
   ]
  },
  {
   "cell_type": "code",
   "execution_count": 19,
   "id": "fa4bbf99-aa8b-403a-aadb-b191c6097b1f",
   "metadata": {},
   "outputs": [
    {
     "name": "stdin",
     "output_type": "stream",
     "text": [
      "Enter English marks:  82\n",
      "Enter Math marks:  87\n",
      "Enter Science marks:  86\n",
      "Enter Social Studies marks:  94\n"
     ]
    },
    {
     "name": "stdout",
     "output_type": "stream",
     "text": [
      "Stream Allotted: Science Stream\n"
     ]
    }
   ],
   "source": [
    "#Question7\n",
    "# Accept marks\n",
    "english = int(input(\"Enter English marks: \"))\n",
    "math = int(input(\"Enter Math marks: \"))\n",
    "science = int(input(\"Enter Science marks: \"))\n",
    "social = int(input(\"Enter Social Studies marks: \"))\n",
    "\n",
    "# Check conditions\n",
    "if english > 80 and math > 80 and science > 80 and social > 80:\n",
    "    print(\"Stream Allotted: Science Stream\")\n",
    "elif english > 80 and math > 50 and science > 50:\n",
    "    print(\"Stream Allotted: Commerce Stream\")\n",
    "elif english > 80 and social > 80:\n",
    "    print(\"Stream Allotted: Humanities\")\n",
    "else:\n",
    "    print(\"No stream allotted based on given criteria\")"
   ]
  },
  {
   "cell_type": "code",
   "execution_count": 32,
   "id": "fd193a60-ad50-4a20-9387-740379ff6fa6",
   "metadata": {},
   "outputs": [
    {
     "ename": "SyntaxError",
     "evalue": "invalid non-printable character U+00A0 (1389462138.py, line 5)",
     "output_type": "error",
     "traceback": [
      "\u001b[1;36m  Cell \u001b[1;32mIn[32], line 5\u001b[1;36m\u001b[0m\n\u001b[1;33m    print(\"Bye\")\u001b[0m\n\u001b[1;37m    ^\u001b[0m\n\u001b[1;31mSyntaxError\u001b[0m\u001b[1;31m:\u001b[0m invalid non-printable character U+00A0\n"
     ]
    }
   ],
   "source": [
    "#Question8\n",
    "num = int(input(\"Enter a number: \"))\n",
    "if num % 5 == 0:\n",
    "    print(\"Hello\")\n",
    "else:\n",
    "    print(\"Bye\")"
   ]
  },
  {
   "cell_type": "code",
   "execution_count": 26,
   "id": "86b4e7c8-a8d4-4374-bf7f-2d521ee98ac4",
   "metadata": {},
   "outputs": [
    {
     "name": "stdin",
     "output_type": "stream",
     "text": [
      "Enter a number:  345\n"
     ]
    },
    {
     "name": "stdout",
     "output_type": "stream",
     "text": [
      "Last digit is not divisible by 3\n"
     ]
    }
   ],
   "source": [
    "#Question9\n",
    "num = int(input(\"Enter a number: \"))\n",
    "last_digit = num % 10\n",
    "if last_digit % 3 == 0:\n",
    "    print(\"Last digit is divisible by 3\")\n",
    "else:\n",
    "    print(\"Last digit is not divisible by 3\")"
   ]
  },
  {
   "cell_type": "code",
   "execution_count": 28,
   "id": "01bff098-e097-47e9-9fca-d8bad0ce49b1",
   "metadata": {},
   "outputs": [
    {
     "name": "stdin",
     "output_type": "stream",
     "text": [
      "Enter a number:  3456\n"
     ]
    },
    {
     "name": "stdout",
     "output_type": "stream",
     "text": [
      "It is not a three-digit number\n"
     ]
    }
   ],
   "source": [
    "#Question10\n",
    "num = int(input(\"Enter a number: \"))\n",
    "if 100 <= num <= 999:\n",
    "    print(\"It is a three-digit number\")\n",
    "else:\n",
    "    print(\"It is not a three-digit number\")"
   ]
  },
  {
   "cell_type": "code",
   "execution_count": null,
   "id": "dc756eea-5c6d-4520-a90c-83023de685f8",
   "metadata": {},
   "outputs": [],
   "source": []
  }
 ],
 "metadata": {
  "kernelspec": {
   "display_name": "Python [conda env:base] *",
   "language": "python",
   "name": "conda-base-py"
  },
  "language_info": {
   "codemirror_mode": {
    "name": "ipython",
    "version": 3
   },
   "file_extension": ".py",
   "mimetype": "text/x-python",
   "name": "python",
   "nbconvert_exporter": "python",
   "pygments_lexer": "ipython3",
   "version": "3.12.7"
  }
 },
 "nbformat": 4,
 "nbformat_minor": 5
}
